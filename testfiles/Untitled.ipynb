{
 "cells": [
  {
   "cell_type": "code",
   "execution_count": 1,
   "metadata": {},
   "outputs": [],
   "source": [
    "import PyPDF2\n",
    "import os\n",
    "import re\n",
    "#os.getcwd()"
   ]
  },
  {
   "cell_type": "code",
   "execution_count": 2,
   "metadata": {},
   "outputs": [
    {
     "name": "stdout",
     "output_type": "stream",
     "text": [
      "Input file name including extention.\n",
      "testfile1.pdf\n"
     ]
    }
   ],
   "source": [
    "print('Input file name including extention.')\n",
    "file_name = input()\n",
    "\n",
    "#opens the file in binary\n",
    "file = open(file_name,'rb')\n",
    "\n",
    "#reads the PDF's binary\n",
    "reader = PyPDF2.PdfFileReader(file)\n",
    "\n",
    "#sets reader to first page\n",
    "page = reader.getPage(0)\n",
    "\n",
    "#extract text from file\n",
    "file_txt = page.extractText()"
   ]
  },
  {
   "cell_type": "code",
   "execution_count": 3,
   "metadata": {},
   "outputs": [],
   "source": [
    "#repr(file_txt)\n",
    "#repr"
   ]
  },
  {
   "cell_type": "code",
   "execution_count": 4,
   "metadata": {},
   "outputs": [],
   "source": [
    "#a search parameters; b what to search\n",
    "#uses search parameters to search document\n",
    "def loc_finder(a,b):\n",
    "    search = re.search(a,b)\n",
    "    try:\n",
    "        loc = search.span()\n",
    "        return loc\n",
    "    except:\n",
    "        return False"
   ]
  },
  {
   "cell_type": "code",
   "execution_count": 5,
   "metadata": {},
   "outputs": [],
   "source": [
    "#finds 'TO:' in the senders symbol block\n",
    "ssb_loc = loc_finder('TO[:\\s][:\\s]', file_txt)"
   ]
  },
  {
   "cell_type": "code",
   "execution_count": 6,
   "metadata": {},
   "outputs": [],
   "source": [
    "#finds 'From:' location\n",
    "frm_loc = loc_finder('From[:]', file_txt)"
   ]
  },
  {
   "cell_type": "code",
   "execution_count": 7,
   "metadata": {},
   "outputs": [],
   "source": [
    "#finds 'To:' location\n",
    "to_loc = loc_finder('To[:]', file_txt)"
   ]
  },
  {
   "cell_type": "code",
   "execution_count": 8,
   "metadata": {},
   "outputs": [],
   "source": [
    "#finds 'Subj:' location\n",
    "subj_loc = loc_finder('Subj[:]', file_txt)"
   ]
  },
  {
   "cell_type": "code",
   "execution_count": 9,
   "metadata": {},
   "outputs": [],
   "source": [
    "#finds 'Ref:' location\n",
    "ref_loc = loc_finder('Ref[:]', file_txt)"
   ]
  },
  {
   "cell_type": "code",
   "execution_count": 10,
   "metadata": {},
   "outputs": [],
   "source": [
    "#finds 'Encl:' location\n",
    "encl_loc = loc_finder('Encl[:]', file_txt)"
   ]
  },
  {
   "cell_type": "code",
   "execution_count": 11,
   "metadata": {},
   "outputs": [],
   "source": [
    "#finds the start of the body using '1.'\n",
    "start_loc = loc_finder('1[.]', file_txt)"
   ]
  },
  {
   "cell_type": "code",
   "execution_count": 12,
   "metadata": {},
   "outputs": [
    {
     "name": "stdout",
     "output_type": "stream",
     "text": [
      "7430\n",
      "CO\n"
     ]
    }
   ],
   "source": [
    "'''\n",
    "These find the text of each of the lines that will be used by using the location where\n",
    "the line starts and stops its seach at the beginning of the field that should follow it\n",
    "'''\n",
    "#Finds the SSIC and the sender, then separates them into individual variables\n",
    "def ssb_line():\n",
    "    if ssb_loc == False:\n",
    "        return None\n",
    "    else:\n",
    "        return file_txt[ssb_loc[1]:frm_loc[0]]\n",
    "ssb = ssb_line()\n",
    "ssb_items = ssb.split()\n",
    "ssic = ssb_items[0]\n",
    "sender = ssb_items[1]\n",
    "print(ssic)\n",
    "print(sender)"
   ]
  },
  {
   "cell_type": "code",
   "execution_count": 13,
   "metadata": {},
   "outputs": [
    {
     "name": "stdout",
     "output_type": "stream",
     "text": [
      "\n",
      "  \n",
      "Commanding Officer\n",
      " \n",
      "\n"
     ]
    }
   ],
   "source": [
    "#Establishes entire 'From:' line\n",
    "def frm_line():\n",
    "    if frm_loc == False:\n",
    "        return None\n",
    "    else:\n",
    "        return file_txt[frm_loc[1]:to_loc[0]]\n",
    "frm = frm_line()\n",
    "print(frm)"
   ]
  },
  {
   "cell_type": "code",
   "execution_count": 14,
   "metadata": {},
   "outputs": [
    {
     "name": "stdout",
     "output_type": "stream",
     "text": [
      "    \n",
      "Sergeant Jovany G. \n",
      "Ulloa \n",
      "1234567891/0123\n",
      " \n",
      "USMC\n",
      " \n",
      " \n",
      "\n"
     ]
    }
   ],
   "source": [
    "#Establishes entire 'To:' line\n",
    "def to_line():\n",
    "    if frm_loc == False or to_loc == False:\n",
    "        return None\n",
    "    else:\n",
    "        return file_txt[to_loc[1]:subj_loc[0]]\n",
    "to = to_line()\n",
    "print(to)"
   ]
  },
  {
   "cell_type": "code",
   "execution_count": 15,
   "metadata": {},
   "outputs": [
    {
     "name": "stdout",
     "output_type": "stream",
     "text": [
      "  \n",
      "REQUEST FOR BASIC ALLOWANCE FOR HOUSING OWN RIGHT IN CASE OF \n",
      " \n",
      "       \n",
      "SERGEANT JOVANY G. ULLOA \n",
      "1234567891\n",
      "/0431 USMC\n",
      " \n",
      " \n",
      "\n"
     ]
    }
   ],
   "source": [
    "#Establishes 'Subj:' line\n",
    "def subj_line():\n",
    "    if ref_loc != False:\n",
    "        return file_txt[subj_loc[1]:ref_loc[0]]\n",
    "    elif encl_loc != False:\n",
    "        return file_txt[subj_loc[1]:encl_loc[0]]\n",
    "    else:\n",
    "        return file_txt[subj_loc[1]:start_loc[0]]\n",
    "subj = subj_line()\n",
    "print(subj)"
   ]
  },
  {
   "cell_type": "code",
   "execution_count": 16,
   "metadata": {},
   "outputs": [
    {
     "name": "stdout",
     "output_type": "stream",
     "text": [
      "N/A\n"
     ]
    }
   ],
   "source": [
    "#Establishes 'Ref:' line\n",
    "def ref_line():\n",
    "    if ref_loc == False:\n",
    "        return 'N/A'\n",
    "    elif ref_loc != False and encl_loc != False:\n",
    "        return file_txt[ref_loc[1]:encl_loc[0]]\n",
    "    elif ref_loc != False and encl_loc == False:\n",
    "        return file_txt[ref_loc[1]:start_loc[0]]\n",
    "ref = ref_line()\n",
    "print(ref)"
   ]
  },
  {
   "cell_type": "code",
   "execution_count": 17,
   "metadata": {},
   "outputs": [],
   "source": [
    "#def to_loc():\n",
    "#    pattern1 = re.compile(r'\\w\\w[:]')\n",
    "#    matches1 = pattern1.finditer(file1)\n",
    "#    return(match.span())\n",
    "#to_loc()"
   ]
  }
 ],
 "metadata": {
  "kernelspec": {
   "display_name": "Python 3",
   "language": "python",
   "name": "python3"
  },
  "language_info": {
   "codemirror_mode": {
    "name": "ipython",
    "version": 3
   },
   "file_extension": ".py",
   "mimetype": "text/x-python",
   "name": "python",
   "nbconvert_exporter": "python",
   "pygments_lexer": "ipython3",
   "version": "3.7.3"
  }
 },
 "nbformat": 4,
 "nbformat_minor": 2
}
